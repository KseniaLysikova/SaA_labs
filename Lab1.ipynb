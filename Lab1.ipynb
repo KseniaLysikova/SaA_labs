{
 "cells": [
  {
   "cell_type": "code",
   "execution_count": 1,
   "id": "edddba18-dd0b-42af-8009-29014522462f",
   "metadata": {},
   "outputs": [],
   "source": [
    "import random\n",
    "\n",
    "\n",
    "def generate_hotel():\n",
    "    stars = random.randint(1, 5)\n",
    "    match stars:\n",
    "        case 1:\n",
    "            price = random.randint(1200, 2800)\n",
    "        case 2:\n",
    "            price = random.randint(3500, 3900)\n",
    "        case 3:\n",
    "            price = random.randint(1900, 10000)\n",
    "        case 4:\n",
    "            price = random.randint(2400, 12800)\n",
    "        case 5:\n",
    "            price = random.randint(3000, 50000)\n",
    "\n",
    "    return stars, price\n",
    "\n",
    "\n",
    "def is_comfort(hotel, min_stars, max_price):\n",
    "    stars, price = hotel\n",
    "    return stars >= min_stars and price <= max_price\n",
    "\n",
    "\n",
    "def find_best_hotel(num_observed, min_stars, max_price, max_hotels):\n",
    "    best_hotel = None\n",
    "    count = 0\n",
    "\n",
    "    # Наблюдение\n",
    "    for _ in range(num_observed):\n",
    "        current_hotel = generate_hotel()\n",
    "        count += 1\n",
    "        if is_comfort(current_hotel, min_stars, max_price):\n",
    "            if (best_hotel is None or current_hotel[0] > best_hotel[0] or\n",
    "                    (current_hotel[0] == best_hotel[0] and current_hotel[1] < best_hotel[1])):\n",
    "                best_hotel = current_hotel\n",
    "        if best_hotel is None and count == num_observed - 1:\n",
    "            best_hotel = current_hotel\n",
    "    print(f'Наблюдение {count}: лучший отель: {best_hotel}')\n",
    "\n",
    "    # Поиск до истечения выносливости\n",
    "    for _ in range(num_observed, max_hotels):\n",
    "        current_hotel = generate_hotel()\n",
    "        count += 1\n",
    "        if is_comfort(current_hotel, min_stars, max_price):\n",
    "            if (current_hotel[0] > best_hotel[0] or\n",
    "                    (current_hotel[0] == best_hotel[0] and current_hotel[1] <= best_hotel[1])):\n",
    "                print(f'Выбран отель: {current_hotel} за {count} итераций, до истечения выносливости')\n",
    "                return current_hotel, count\n",
    "\n",
    "    # Поиск после истечения выносливости\n",
    "    while True:\n",
    "        current_hotel = generate_hotel()\n",
    "        count += 1\n",
    "        if is_comfort(current_hotel, min_stars, max_price):\n",
    "            print(f'Выбран отель: {current_hotel} за {count} итераций, после истечения выносливости')\n",
    "            return current_hotel, count"
   ]
  },
  {
   "cell_type": "code",
   "execution_count": 2,
   "id": "54bacd37-e011-4b66-a76b-fd61937ced57",
   "metadata": {},
   "outputs": [
    {
     "name": "stdout",
     "output_type": "stream",
     "text": [
      "Наблюдение 5: лучший отель: (2, 3671)\n",
      "Выбран отель: (4, 2956) за 9 итераций, до истечения выносливости\n",
      "(4, 2956) 9\n"
     ]
    }
   ],
   "source": [
    "#random.seed(17)\n",
    "min_stars = 3\n",
    "max_price = 10500\n",
    "num_observed = 5\n",
    "total_hotels = 20\n",
    "\n",
    "hotel = find_best_hotel(num_observed, min_stars, max_price, total_hotels)\n",
    "print(hotel[0], hotel[1])"
   ]
  },
  {
   "cell_type": "code",
   "execution_count": null,
   "id": "01966151-3883-418e-8051-42f79133bde7",
   "metadata": {},
   "outputs": [],
   "source": []
  }
 ],
 "metadata": {
  "kernelspec": {
   "display_name": "Python 3 (ipykernel)",
   "language": "python",
   "name": "python3"
  },
  "language_info": {
   "codemirror_mode": {
    "name": "ipython",
    "version": 3
   },
   "file_extension": ".py",
   "mimetype": "text/x-python",
   "name": "python",
   "nbconvert_exporter": "python",
   "pygments_lexer": "ipython3",
   "version": "3.10.12"
  }
 },
 "nbformat": 4,
 "nbformat_minor": 5
}
